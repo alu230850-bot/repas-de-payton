{
  "nbformat": 4,
  "nbformat_minor": 0,
  "metadata": {
    "colab": {
      "provenance": [],
      "authorship_tag": "ABX9TyOGznj8N0vi/pAoBUfvFtu/",
      "include_colab_link": true
    },
    "kernelspec": {
      "name": "python3",
      "display_name": "Python 3"
    },
    "language_info": {
      "name": "python"
    }
  },
  "cells": [
    {
      "cell_type": "markdown",
      "metadata": {
        "id": "view-in-github",
        "colab_type": "text"
      },
      "source": [
        "<a href=\"https://colab.research.google.com/github/alu230850-bot/repas-de-payton/blob/main/Untitled0.ipynb\" target=\"_parent\"><img src=\"https://colab.research.google.com/assets/colab-badge.svg\" alt=\"Open In Colab\"/></a>"
      ]
    },
    {
      "cell_type": "markdown",
      "source": [],
      "metadata": {
        "id": "NIgnIOWNBA05"
      }
    },
    {
      "cell_type": "markdown",
      "source": [
        "realizar un programa que permita capturar tu nombre y lo imprima seguido de una bienvenida"
      ],
      "metadata": {
        "id": "InHkYGIiBf_P"
      }
    },
    {
      "cell_type": "code",
      "execution_count": 2,
      "metadata": {
        "colab": {
          "base_uri": "https://localhost:8080/"
        },
        "id": "iw0vGGv8BAN1",
        "outputId": "c077b0c0-41b9-469e-cf16-45221fdc6740"
      },
      "outputs": [
        {
          "output_type": "stream",
          "name": "stdout",
          "text": [
            "escribe tu nombre: erick\n",
            "bienvenido, erick\n"
          ]
        }
      ],
      "source": [
        "nombre = input (\"escribe tu nombre: \")\n",
        "print (\"bienvenido, \" + nombre)"
      ]
    },
    {
      "cell_type": "markdown",
      "source": [
        "realiza un programa que permita capturar 2 numeros enteros e imprima la suma, la resta, la multiplicaciony la division entre ellos"
      ],
      "metadata": {
        "id": "nS98YiieCq9-"
      }
    },
    {
      "cell_type": "code",
      "source": [
        "num1=int(input(\"captura un num:\"))\n",
        "num2=int(input(\"captura un num:\"))\n",
        "s=num1+num2\n",
        "r=num2-num2\n",
        "m=num2*num2\n",
        "d=num1/num2\n",
        "print(\"la suma es\",s)\n",
        "print(\"la resta es\",r)\n",
        "print(\"la multiplicacion es\",m)\n",
        "print(\"la division es\",d)\n",
        "\n"
      ],
      "metadata": {
        "colab": {
          "base_uri": "https://localhost:8080/"
        },
        "id": "TlpKn5OYC-M0",
        "outputId": "33a9a9b5-3f98-4c47-f5dd-e7a01e034a00"
      },
      "execution_count": 4,
      "outputs": [
        {
          "output_type": "stream",
          "name": "stdout",
          "text": [
            "captura un num:5\n",
            "captura un num:5\n",
            "la suma es 10\n",
            "la resta es 0\n",
            "la multiplicacion es 25\n",
            "la division es 1.0\n"
          ]
        }
      ]
    }
  ]
}